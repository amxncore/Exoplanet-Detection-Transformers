{
 "cells": [
  {
   "cell_type": "code",
   "execution_count": null,
   "id": "819d9d1b",
   "metadata": {
    "vscode": {
     "languageId": "plaintext"
    }
   },
   "outputs": [],
   "source": [
    "# ---------------------------\n",
    "# Data Preparation Notebook\n",
    "# ---------------------------\n",
    "\n",
    "import pandas as pd\n",
    "import matplotlib.pyplot as plt\n",
    "\n",
    "# Load dataset (make sure exoTrain.csv and exoTest.csv are in /data folder)\n",
    "train = pd.read_csv(\"../data/exoTrain.csv\")\n",
    "test = pd.read_csv(\"../data/exoTest.csv\")\n",
    "\n",
    "print(\"Train shape:\", train.shape)\n",
    "print(\"Test shape:\", test.shape)\n",
    "\n",
    "# Convert labels: 2 → Planet (1), 1 → No Planet (0)\n",
    "train['LABEL'] = train['LABEL'].apply(lambda x: 1 if x == 2 else 0)\n",
    "test['LABEL'] = test['LABEL'].apply(lambda x: 1 if x == 2 else 0)\n",
    "\n",
    "print(\"\\nLabel distribution (Train):\\n\", train['LABEL'].value_counts())\n",
    "print(\"\\nLabel distribution (Test):\\n\", test['LABEL'].value_counts())\n",
    "\n",
    "# ---------------------------\n",
    "# Visualize Sample Light Curves\n",
    "# ---------------------------\n",
    "\n",
    "# First planet light curve\n",
    "planet_curve = train[train['LABEL'] == 1].iloc[0, 1:].values\n",
    "\n",
    "# First non-planet light curve\n",
    "star_curve = train[train['LABEL'] == 0].iloc[0, 1:].values\n",
    "\n",
    "plt.figure(figsize=(12, 6))\n",
    "plt.plot(planet_curve, label=\"Exoplanet Detected\", color=\"orange\")\n",
    "plt.plot(star_curve, label=\"No Exoplanet\", color=\"blue\")\n",
    "plt.xlabel(\"Time Steps\")\n",
    "plt.ylabel(\"Flux (Brightness)\")\n",
    "plt.title(\"Sample Light Curves from Kepler Data\")\n",
    "plt.legend()\n",
    "plt.show()\n"
   ]
  }
 ],
 "metadata": {
  "language_info": {
   "name": "python"
  }
 },
 "nbformat": 4,
 "nbformat_minor": 5
}
