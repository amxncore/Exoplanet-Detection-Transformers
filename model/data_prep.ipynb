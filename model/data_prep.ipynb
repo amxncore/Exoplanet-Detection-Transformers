{
 "cells": [
  {
   "cell_type": "code",
   "execution_count": null,
   "id": "819d9d1b",
   "metadata": {},
   "outputs": [
    {
     "ename": "ModuleNotFoundError",
     "evalue": "No module named 'pandas'",
     "output_type": "error",
     "traceback": [
      "\u001b[1;31m---------------------------------------------------------------------------\u001b[0m",
      "\u001b[1;31mModuleNotFoundError\u001b[0m                       Traceback (most recent call last)",
      "Cell \u001b[1;32mIn[10], line 5\u001b[0m\n\u001b[0;32m      1\u001b[0m \u001b[38;5;66;03m# ---------------------------\u001b[39;00m\n\u001b[0;32m      2\u001b[0m \u001b[38;5;66;03m# Data Preparation Notebook\u001b[39;00m\n\u001b[0;32m      3\u001b[0m \u001b[38;5;66;03m# ---------------------------\u001b[39;00m\n\u001b[1;32m----> 5\u001b[0m \u001b[38;5;28;01mimport\u001b[39;00m\u001b[38;5;250m \u001b[39m\u001b[38;5;21;01mpandas\u001b[39;00m\u001b[38;5;250m \u001b[39m\u001b[38;5;28;01mas\u001b[39;00m\u001b[38;5;250m \u001b[39m\u001b[38;5;21;01mpd\u001b[39;00m\n\u001b[0;32m      6\u001b[0m \u001b[38;5;28;01mimport\u001b[39;00m\u001b[38;5;250m \u001b[39m\u001b[38;5;21;01mmatplotlib\u001b[39;00m\u001b[38;5;21;01m.\u001b[39;00m\u001b[38;5;21;01mpyplot\u001b[39;00m\u001b[38;5;250m \u001b[39m\u001b[38;5;28;01mas\u001b[39;00m\u001b[38;5;250m \u001b[39m\u001b[38;5;21;01mplt\u001b[39;00m\n\u001b[0;32m      8\u001b[0m \u001b[38;5;66;03m# Load dataset (make sure exoTrain.csv and exoTest.csv are in /data folder)\u001b[39;00m\n",
      "\u001b[1;31mModuleNotFoundError\u001b[0m: No module named 'pandas'"
     ]
    }
   ],
   "source": [
    "# ---------------------------\n",
    "# Data Preparation Notebook\n",
    "# ---------------------------\n",
    "\n",
    "import pandas as pd\n",
    "import matplotlib.pyplot as plt\n",
    "print(pd.__version__)\n",
    "\n",
    "\n",
    "# Load dataset (make sure exoTrain.csv and exoTest.csv are in /data folder)\n",
    "train = pd.read_csv(\"../data/exoTrain.csv\")\n",
    "test = pd.read_csv(\"../data/exoTest.csv\")\n",
    "\n",
    "print(\"Train shape:\", train.shape)\n",
    "print(\"Test shape:\", test.shape)\n",
    "\n",
    "# Convert labels: 2 → Planet (1), 1 → No Planet (0)\n",
    "train['LABEL'] = train['LABEL'].apply(lambda x: 1 if x == 2 else 0)\n",
    "test['LABEL'] = test['LABEL'].apply(lambda x: 1 if x == 2 else 0)\n",
    "\n",
    "print(\"\\nLabel distribution (Train):\\n\", train['LABEL'].value_counts())\n",
    "print(\"\\nLabel distribution (Test):\\n\", test['LABEL'].value_counts())\n",
    "\n",
    "# ---------------------------\n",
    "# Visualize Sample Light Curves\n",
    "# ---------------------------\n",
    "\n",
    "# First planet light curve\n",
    "planet_curve = train[train['LABEL'] == 1].iloc[0, 1:].values\n",
    "\n",
    "# First non-planet light curve\n",
    "star_curve = train[train['LABEL'] == 0].iloc[0, 1:].values\n",
    "\n",
    "plt.figure(figsize=(12, 6))\n",
    "plt.plot(planet_curve, label=\"Exoplanet Detected\", color=\"orange\")\n",
    "plt.plot(star_curve, label=\"No Exoplanet\", color=\"blue\")\n",
    "plt.xlabel(\"Time Steps\")\n",
    "plt.ylabel(\"Flux (Brightness)\")\n",
    "plt.title(\"Sample Light Curves from Kepler Data\")\n",
    "plt.legend()\n",
    "plt.show()\n"
   ]
  }
 ],
 "metadata": {
  "kernelspec": {
   "display_name": "exoplanet",
   "language": "python",
   "name": "python3"
  },
  "language_info": {
   "codemirror_mode": {
    "name": "ipython",
    "version": 3
   },
   "file_extension": ".py",
   "mimetype": "text/x-python",
   "name": "python",
   "nbconvert_exporter": "python",
   "pygments_lexer": "ipython3",
   "version": "3.10.18"
  }
 },
 "nbformat": 4,
 "nbformat_minor": 5
}
